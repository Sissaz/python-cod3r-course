{
    "cells": [
        {
            "cell_type": "code",
            "execution_count": 342,
            "source": [
                "# Python 3 - Curso Completo do Básico ao Avançado"
            ],
            "outputs": [],
            "metadata": {}
        },
        {
            "cell_type": "code",
            "execution_count": 343,
            "source": [
                "print(\"Primeiro Programa\")"
            ],
            "outputs": [
                {
                    "output_type": "stream",
                    "name": "stdout",
                    "text": [
                        "Primeiro Programa\n"
                    ]
                }
            ],
            "metadata": {}
        },
        {
            "cell_type": "code",
            "execution_count": 344,
            "source": [
                "1 + 2\r\n",
                "4 + 5 + 6"
            ],
            "outputs": [
                {
                    "output_type": "execute_result",
                    "data": {
                        "text/plain": [
                            "15"
                        ]
                    },
                    "metadata": {},
                    "execution_count": 344
                }
            ],
            "metadata": {}
        },
        {
            "cell_type": "code",
            "execution_count": 345,
            "source": [
                "print(1 + 2)\r\n",
                "print(4 + 5 + 6)"
            ],
            "outputs": [
                {
                    "output_type": "stream",
                    "name": "stdout",
                    "text": [
                        "3\n",
                        "15\n"
                    ]
                }
            ],
            "metadata": {}
        },
        {
            "cell_type": "code",
            "execution_count": 346,
            "source": [
                "# Tipos Básicos\r\n",
                "\r\n",
                "# Booleano\r\n",
                "print(True)\r\n",
                "print(False)\r\n",
                "\r\n",
                "# Números Reais: Float e Int\r\n",
                "print(1.2 + 1)\r\n",
                "\r\n",
                "# Sequencia de Caracteres: Strings\r\n",
                "print(\"Strings!\")\r\n",
                "print(\"Reino de \" + 3 * \"tão \" + \"distante!\")\r\n",
                "\r\n",
                "#Listas\r\n",
                "print([1,2,3])\r\n",
                "\r\n",
                "# Dicionários\r\n",
                "print({\"Nome\" : \"Pedro\", \"Idade\" : \"22\"})\r\n",
                "\r\n",
                "# Nulo\r\n",
                "print(None)"
            ],
            "outputs": [
                {
                    "output_type": "stream",
                    "name": "stdout",
                    "text": [
                        "True\n",
                        "False\n",
                        "2.2\n",
                        "Strings!\n",
                        "Reino de tão tão tão distante!\n",
                        "[1, 2, 3]\n",
                        "{'Nome': 'Pedro', 'Idade': '22'}\n",
                        "None\n"
                    ]
                }
            ],
            "metadata": {}
        },
        {
            "cell_type": "code",
            "execution_count": 347,
            "source": [
                "# Variáveis\r\n",
                "\r\n",
                "a = 10\r\n",
                "b = 5.2\r\n",
                "\r\n",
                "print(a + b)\r\n",
                "\r\n",
                "# Variaveis de Tipos Diferentes\r\n",
                "c = \"dez\"\r\n",
                "\r\n",
                "print(f\"O número {a} é escrito como: {c}.\")"
            ],
            "outputs": [
                {
                    "output_type": "stream",
                    "name": "stdout",
                    "text": [
                        "15.2\n",
                        "O número 10 é escrito como: dez.\n"
                    ]
                }
            ],
            "metadata": {}
        },
        {
            "cell_type": "code",
            "execution_count": 348,
            "source": [
                "# Operadores Aritméticos\r\n",
                "\r\n",
                "print(2 + 3)\r\n",
                "print(4 - 7)\r\n",
                "print(2 * 5.3)\r\n",
                "print(9.4 / 3)\r\n",
                "print(9.4 // 3)\r\n",
                "print(2 ** 8)\r\n",
                "print(10 % 3)"
            ],
            "outputs": [
                {
                    "output_type": "stream",
                    "name": "stdout",
                    "text": [
                        "5\n",
                        "-3\n",
                        "10.6\n",
                        "3.1333333333333333\n",
                        "3.0\n",
                        "256\n",
                        "1\n"
                    ]
                }
            ],
            "metadata": {}
        },
        {
            "cell_type": "code",
            "execution_count": 349,
            "source": [
                "# Qual o percentual da Despesas do Mês que compromete o Salário do Mês?\r\n",
                "\r\n",
                "salario_do_mes = 3450.54\r\n",
                "despesas_do_mes = 2456.2\r\n",
                "\r\n",
                "percentual = despesas_do_mes / salario_do_mes * 100\r\n",
                "print(int(percentual))"
            ],
            "outputs": [
                {
                    "output_type": "stream",
                    "name": "stdout",
                    "text": [
                        "71\n"
                    ]
                }
            ],
            "metadata": {}
        },
        {
            "cell_type": "code",
            "execution_count": 350,
            "source": [
                "# Operadores Relacionais\r\n",
                "\r\n",
                "print (3 > 4)\r\n",
                "print (4 >= 3)\r\n",
                "print(1 < 2)\r\n",
                "print (3 <= 1)\r\n",
                "print (3 != 2)\r\n",
                "print (3 == 3)\r\n",
                "print (2 == \"2\")"
            ],
            "outputs": [
                {
                    "output_type": "stream",
                    "name": "stdout",
                    "text": [
                        "False\n",
                        "True\n",
                        "True\n",
                        "False\n",
                        "True\n",
                        "True\n",
                        "False\n"
                    ]
                }
            ],
            "metadata": {}
        },
        {
            "cell_type": "code",
            "execution_count": 351,
            "source": [
                "# Operadores de Atribuição\r\n",
                "\r\n",
                "a = 3\r\n",
                "a = a + 7\r\n",
                "print(a)\r\n",
                "\r\n",
                "a += 5\r\n",
                "print(a)\r\n",
                "\r\n",
                "a -= 3\r\n",
                "print(a)\r\n",
                "\r\n",
                "a *= 2\r\n",
                "print(a)\r\n",
                "\r\n",
                "a /= 4\r\n",
                "print(a)\r\n",
                "\r\n",
                "a **= 8\r\n",
                "print(a)\r\n",
                "\r\n",
                "a //= 256\r\n",
                "print(a)\r\n",
                "\r\n",
                "a %= 3\r\n",
                "print (a)"
            ],
            "outputs": [
                {
                    "output_type": "stream",
                    "name": "stdout",
                    "text": [
                        "10\n",
                        "15\n",
                        "12\n",
                        "24\n",
                        "6.0\n",
                        "1679616.0\n",
                        "6561.0\n",
                        "0.0\n"
                    ]
                }
            ],
            "metadata": {}
        },
        {
            "cell_type": "code",
            "execution_count": 352,
            "source": [
                "# Operadores Lógicos \r\n",
                "\r\n",
                "True or False \r\n",
                "7 != 3 and 2 > 3\r\n",
                "\r\n",
                "# Tabela Verdade AND\r\n",
                "\r\n",
                "print(True and True)\r\n",
                "print(True and False)\r\n",
                "print(False and True)\r\n",
                "print(False and False)\r\n",
                "print(True and True and False and True and True)"
            ],
            "outputs": [
                {
                    "output_type": "stream",
                    "name": "stdout",
                    "text": [
                        "True\n",
                        "False\n",
                        "False\n",
                        "False\n",
                        "False\n"
                    ]
                }
            ],
            "metadata": {}
        },
        {
            "cell_type": "code",
            "execution_count": 353,
            "source": [
                "# Tabela Verdade OR\r\n",
                "\r\n",
                "print(True or True)\r\n",
                "print(True or False)\r\n",
                "print(False or True)\r\n",
                "print(False or False)\r\n",
                "print(False or False or True or False or False)"
            ],
            "outputs": [
                {
                    "output_type": "stream",
                    "name": "stdout",
                    "text": [
                        "True\n",
                        "True\n",
                        "True\n",
                        "False\n",
                        "True\n"
                    ]
                }
            ],
            "metadata": {}
        },
        {
            "cell_type": "code",
            "execution_count": 354,
            "source": [
                "# Tabela Verdade XOR (Um ou outro)\r\n",
                "\r\n",
                "print(True != True)\r\n",
                "print(True != False)\r\n",
                "print(False != True)\r\n",
                "print(False != False)"
            ],
            "outputs": [
                {
                    "output_type": "stream",
                    "name": "stdout",
                    "text": [
                        "False\n",
                        "True\n",
                        "True\n",
                        "False\n"
                    ]
                }
            ],
            "metadata": {}
        },
        {
            "cell_type": "code",
            "execution_count": 355,
            "source": [
                "# Operador de Negação (Unário)\r\n",
                "\r\n",
                "print(not True)\r\n",
                "print(not False)\r\n",
                "print(not 0)\r\n",
                "print(not 1)\r\n",
                "print(not not -1)\r\n",
                "print(not not True)"
            ],
            "outputs": [
                {
                    "output_type": "stream",
                    "name": "stdout",
                    "text": [
                        "False\n",
                        "True\n",
                        "True\n",
                        "False\n",
                        "True\n",
                        "True\n"
                    ]
                }
            ],
            "metadata": {}
        },
        {
            "cell_type": "code",
            "execution_count": 356,
            "source": [
                "# Conversão de Tipos\r\n",
                "\r\n",
                "print(2 + 3)\r\n",
                "# Erro de Tipo int + str: print (2 + \"3\")\r\n",
                "\r\n",
                "# Conversão:\r\n",
                "\r\n",
                "a = 2\r\n",
                "b = \"3\" \r\n",
                "print(type(a))\r\n",
                "print(type(b))\r\n",
                "print(a + int(b))\r\n",
                "print(f\"{a}+{b}\")"
            ],
            "outputs": [
                {
                    "output_type": "stream",
                    "name": "stdout",
                    "text": [
                        "5\n",
                        "<class 'int'>\n",
                        "<class 'str'>\n",
                        "5\n",
                        "2+3\n"
                    ]
                }
            ],
            "metadata": {}
        },
        {
            "cell_type": "code",
            "execution_count": 357,
            "source": [
                "# Numeros Decimais\r\n",
                "\r\n",
                "from decimal import Decimal, getcontext\r\n",
                "\r\n",
                "getcontext().prec = 1\r\n",
                "print(Decimal(1) / Decimal(7))\r\n",
                "\r\n",
                "print(Decimal.max(Decimal(1), Decimal(7)))\r\n",
                "\r\n",
                "1.1 + 2.2\r\n",
                "getcontext().prec = 10\r\n",
                "print(Decimal(1.1) + Decimal(2.2))"
            ],
            "outputs": [
                {
                    "output_type": "stream",
                    "name": "stdout",
                    "text": [
                        "0.1\n",
                        "7\n",
                        "3.300000000\n"
                    ]
                }
            ],
            "metadata": {}
        },
        {
            "cell_type": "code",
            "execution_count": 358,
            "source": [
                "# Strings\r\n",
                "\r\n",
                "nome = \"Paulo\"\r\n",
                "print(nome[0])\r\n",
                "\r\n",
                "nome_moca = \"Ana Paula\"\r\n",
                "print(nome_moca[0])\r\n",
                "print(nome_moca[6])\r\n",
                "print(nome_moca[-3])\r\n",
                "print(nome_moca[4:])\r\n",
                "print(nome_moca[-5:])\r\n",
                "print(nome_moca[:3])\r\n",
                "print(nome_moca[2:5])\r\n",
                "print(nome_moca[::-1])\r\n",
                "\r\n",
                "# Tamanho da String\r\n",
                "\r\n",
                "print(len(nome_moca))"
            ],
            "outputs": [
                {
                    "output_type": "stream",
                    "name": "stdout",
                    "text": [
                        "P\n",
                        "A\n",
                        "u\n",
                        "u\n",
                        "Paula\n",
                        "Paula\n",
                        "Ana\n",
                        "a P\n",
                        "aluaP anA\n",
                        "9\n"
                    ]
                }
            ],
            "metadata": {}
        },
        {
            "cell_type": "code",
            "execution_count": 359,
            "source": [
                "# Tamanho da String\r\n",
                "\r\n",
                "print(len(nome_moca))\r\n",
                "\r\n",
                "# Frase Lower\r\n",
                "\r\n",
                "frase = \"And Rohan will answer.\"\r\n",
                "frase_lower = frase.lower()\r\n",
                "print(frase_lower)\r\n",
                "\r\n",
                "# Frase Upper\r\n",
                "\r\n",
                "frase_upper = frase.upper()\r\n",
                "print(frase_upper)\r\n",
                "\r\n",
                "# Frase Split\r\n",
                "\r\n",
                "frase_split = frase.split()\r\n",
                "print(frase_split)\r\n",
                "\r\n",
                "frase_split_a = frase.split('a')\r\n",
                "print(frase_split_a)"
            ],
            "outputs": [
                {
                    "output_type": "stream",
                    "name": "stdout",
                    "text": [
                        "9\n",
                        "and rohan will answer.\n",
                        "AND ROHAN WILL ANSWER.\n",
                        "['And', 'Rohan', 'will', 'answer.']\n",
                        "['And Roh', 'n will ', 'nswer.']\n"
                    ]
                }
            ],
            "metadata": {}
        },
        {
            "cell_type": "code",
            "execution_count": 360,
            "source": [
                "# Listas \r\n",
                "\r\n",
                "lista_a = [1,2,3]\r\n",
                "print(lista_a)\r\n",
                "print(type(lista_a))\r\n",
                "print(len(lista_a))\r\n",
                "\r\n",
                "lista_a.append(4)\r\n",
                "print(lista_a)\r\n",
                "\r\n",
                "lista_a.append(5)\r\n",
                "print(lista_a)\r\n",
                "print(len(lista_a))\r\n",
                "\r\n",
                "lista_a.remove(5)\r\n",
                "print(lista_a)\r\n",
                "\r\n",
                "lista_a.reverse()\r\n",
                "print(lista_a)"
            ],
            "outputs": [
                {
                    "output_type": "stream",
                    "name": "stdout",
                    "text": [
                        "[1, 2, 3]\n",
                        "<class 'list'>\n",
                        "3\n",
                        "[1, 2, 3, 4]\n",
                        "[1, 2, 3, 4, 5]\n",
                        "5\n",
                        "[1, 2, 3, 4]\n",
                        "[4, 3, 2, 1]\n"
                    ]
                }
            ],
            "metadata": {}
        },
        {
            "cell_type": "code",
            "execution_count": 361,
            "source": [
                "# Listas\r\n",
                "\r\n",
                "lista_nomes = [\"Ana\", \"Lia\", \"Rui\", \"Paulo\", \"Dani\"]\r\n",
                "print(lista_nomes[1:3])\r\n",
                "print(lista_nomes[1:-1])\r\n",
                "print(lista_nomes[1:])\r\n",
                "print(lista_nomes[:-1])\r\n",
                "print(lista_nomes[:])\r\n",
                "print(lista_nomes[::2])\r\n",
                "print(lista_nomes[::-1])\r\n",
                "\r\n",
                "del lista_nomes[2]\r\n",
                "print(lista_nomes)\r\n",
                "\r\n",
                "del lista_nomes[1:]\r\n",
                "print(lista_nomes)"
            ],
            "outputs": [
                {
                    "output_type": "stream",
                    "name": "stdout",
                    "text": [
                        "['Lia', 'Rui']\n",
                        "['Lia', 'Rui', 'Paulo']\n",
                        "['Lia', 'Rui', 'Paulo', 'Dani']\n",
                        "['Ana', 'Lia', 'Rui', 'Paulo']\n",
                        "['Ana', 'Lia', 'Rui', 'Paulo', 'Dani']\n",
                        "['Ana', 'Rui', 'Dani']\n",
                        "['Dani', 'Paulo', 'Rui', 'Lia', 'Ana']\n",
                        "['Ana', 'Lia', 'Paulo', 'Dani']\n",
                        "['Ana']\n"
                    ]
                }
            ],
            "metadata": {}
        },
        {
            "cell_type": "code",
            "execution_count": 362,
            "source": [
                "# Tuplas (Listas Constantes)\r\n",
                "\r\n",
                "tupla = tuple()\r\n",
                "tupla = ()\r\n",
                "print(type(tupla))\r\n",
                "\r\n",
                "tupla = (\"Um\",\"Dois\")\r\n",
                "print(tupla)"
            ],
            "outputs": [
                {
                    "output_type": "stream",
                    "name": "stdout",
                    "text": [
                        "<class 'tuple'>\n",
                        "('Um', 'Dois')\n"
                    ]
                }
            ],
            "metadata": {}
        },
        {
            "cell_type": "code",
            "execution_count": 363,
            "source": [
                "# Dicionários\r\n",
                "\r\n",
                "pessoa = {\"Nome\": \"Profa. Ana\", \"Idade\": \"38\", \"Cursos\": [\"Inglês\", \"Português\"]}\r\n",
                "print(type(pessoa))\r\n",
                "print(len(pessoa))\r\n",
                "print(pessoa[\"Nome\"])\r\n",
                "print(pessoa.keys())\r\n",
                "print(pessoa.values())\r\n",
                "print(pessoa.get(\"Idade\"))"
            ],
            "outputs": [
                {
                    "output_type": "stream",
                    "name": "stdout",
                    "text": [
                        "<class 'dict'>\n",
                        "3\n",
                        "Profa. Ana\n",
                        "dict_keys(['Nome', 'Idade', 'Cursos'])\n",
                        "dict_values(['Profa. Ana', '38', ['Inglês', 'Português']])\n",
                        "38\n"
                    ]
                }
            ],
            "metadata": {}
        },
        {
            "cell_type": "code",
            "execution_count": 364,
            "source": [
                "# Conjuntos\r\n",
                "\r\n",
                "a = {1,2,3}\r\n",
                "print(type(a))\r\n",
                "\r\n",
                "nome = set(\"Sissa\")\r\n",
                "print(nome)\r\n",
                "\r\n",
                "adjetivo = set(\"Linda\")\r\n",
                "print(nome.union(adjetivo))\r\n",
                "\r\n",
                "nome_adjetivo = {\"Sissa\", \"Linda\"}\r\n",
                "print(type(nome_adjetivo))"
            ],
            "outputs": [
                {
                    "output_type": "stream",
                    "name": "stdout",
                    "text": [
                        "<class 'set'>\n",
                        "{'i', 'S', 's', 'a'}\n",
                        "{'S', 'L', 'n', 'd', 'i', 's', 'a'}\n",
                        "<class 'set'>\n"
                    ]
                }
            ],
            "metadata": {}
        },
        {
            "cell_type": "code",
            "execution_count": 365,
            "source": [
                "# União\r\n",
                "\r\n",
                "c1 = {1, 2}\r\n",
                "c2 = {2, 3}\r\n",
                "print(c1.union(c2))\r\n",
                "print(c1.intersection(c2))\r\n",
                "\r\n",
                "c1.update(c2)\r\n",
                "print(c1)"
            ],
            "outputs": [
                {
                    "output_type": "stream",
                    "name": "stdout",
                    "text": [
                        "{1, 2, 3}\n",
                        "{2}\n",
                        "{1, 2, 3}\n"
                    ]
                }
            ],
            "metadata": {}
        },
        {
            "cell_type": "code",
            "execution_count": 366,
            "source": [
                "# Interpolação\r\n",
                "\r\n",
                "Nome, Idade, Altura = \"Ana\", 30, 1.60\r\n",
                "print(\"Nome: %s \\nIdade: %d \\nAltura: %.2f\" % (Nome, Idade, Altura))\r\n",
                "print(f\"Nome: {Nome}, Idade: {Idade}, Altura: {Altura}.\")"
            ],
            "outputs": [
                {
                    "output_type": "stream",
                    "name": "stdout",
                    "text": [
                        "Nome: Ana \n",
                        "Idade: 30 \n",
                        "Altura: 1.60\n",
                        "Nome: Ana, Idade: 30, Altura: 1.6.\n"
                    ]
                }
            ],
            "metadata": {}
        }
    ],
    "metadata": {
        "orig_nbformat": 4,
        "language_info": {
            "name": "python",
            "version": "3.9.7",
            "mimetype": "text/x-python",
            "codemirror_mode": {
                "name": "ipython",
                "version": 3
            },
            "pygments_lexer": "ipython3",
            "nbconvert_exporter": "python",
            "file_extension": ".py"
        },
        "kernelspec": {
            "name": "python3",
            "display_name": "Python 3.9.7 64-bit (conda)"
        },
        "interpreter": {
            "hash": "87423e84b6290a50d7e3421f2c9d3f1007ed4c3b90a1d3c5ac5a2c1dfcb7cca0"
        }
    },
    "nbformat": 4,
    "nbformat_minor": 2
}