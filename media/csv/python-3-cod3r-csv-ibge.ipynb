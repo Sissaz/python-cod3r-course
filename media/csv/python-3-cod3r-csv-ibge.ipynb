{
 "cells": [
  {
   "cell_type": "code",
   "execution_count": null,
   "source": [
    "# Desafio IBGE \r\n",
    "\r\n",
    "# Extrair o nono e o quarto campos do arquivo CSV sobre Região de influência das Cidades do IBGE. \r\n",
    "\r\n",
    "# Ignorando a primeira linha que é o cabeçalho\r\n",
    "\r\n",
    "# O arquivo se encontra em ISO-8859-1 (aka latin1)."
   ],
   "outputs": [],
   "metadata": {}
  },
  {
   "cell_type": "code",
   "execution_count": null,
   "source": [
    "import csv\r\n",
    "import imp\r\n",
    "from urllib import request\r\n",
    "\r\n",
    "def read(url):\r\n",
    "    with request.urlopen(url) as entrada:\r\n",
    "        print(\"Baixando o .csv\")\r\n",
    "        dados = entrada.read().decode(\"latin1\")\r\n",
    "        print(\"Download completo!\")\r\n",
    "\r\n",
    "        for cidade in csv.reader(dados.splitlines()):\r\n",
    "            print(f\"{cidade[8]}: {cidade[3]}\")\r\n",
    "\r\n",
    "\r\n",
    "if __name__ == \"__main__\":\r\n",
    "    read(r\"http://files.cod3r.com.br/curso-python/desafio-ibge.csv\")\r\n"
   ],
   "outputs": [],
   "metadata": {}
  }
 ],
 "metadata": {
  "orig_nbformat": 4,
  "language_info": {
   "name": "python",
   "version": "3.9.7"
  },
  "kernelspec": {
   "name": "python3",
   "display_name": "Python 3.9.7 64-bit ('sicilia.giacomazza': virtualenv)"
  },
  "interpreter": {
   "hash": "87423e84b6290a50d7e3421f2c9d3f1007ed4c3b90a1d3c5ac5a2c1dfcb7cca0"
  }
 },
 "nbformat": 4,
 "nbformat_minor": 2
}