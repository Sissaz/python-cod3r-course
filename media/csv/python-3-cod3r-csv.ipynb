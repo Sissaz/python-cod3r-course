{
 "cells": [
  {
   "cell_type": "code",
   "execution_count": null,
   "source": [
    "# Manipulação de Arquivos CSV\r\n",
    "\r\n",
    "# cd 'C:\\Users\\sicilia.giacomazza\\Documents\\Python Cod3r\\'\r\n",
    "# python io_v1.py\r\n",
    "# clear\r\n",
    "\r\n",
    "try:\r\n",
    "    arquivo = open(\"pessoas.csv\", encoding=\"utf-8-sig\")\r\n",
    "    for registro in arquivo:\r\n",
    "        print(\"Nome: {}, Idade: {}\".format(*registro.strip().split(\",\")))\r\n",
    "\r\n",
    "except IndexError:\r\n",
    "    pass\r\n",
    "\r\n",
    "finally:\r\n",
    "    print(\"Finalizado\")\r\n",
    "    arquivo.close()\r\n",
    "\r\n",
    "if arquivo.closed:\r\n",
    "    print(\"O arquivo foi fechado!\")"
   ],
   "outputs": [],
   "metadata": {}
  },
  {
   "cell_type": "code",
   "execution_count": null,
   "source": [
    "# Manipulação de Arquivos CSV\r\n",
    "\r\n",
    "# cd 'C:\\Users\\sicilia.giacomazza\\Documents\\Python Cod3r\\'\r\n",
    "# python io_v2.py\r\n",
    "# clear\r\n",
    "\r\n",
    "with open (\"pessoas.csv\", encoding=\"utf-8-sig\") as arquivo:\r\n",
    "    for registro in arquivo:\r\n",
    "        print(\"Nome: {}, Idade: {}\".format(*registro.strip().split(\",\")))\r\n",
    "\r\n",
    "if arquivo.closed:\r\n",
    "    print(\"O arquivo foi fechado!\")"
   ],
   "outputs": [],
   "metadata": {}
  },
  {
   "cell_type": "code",
   "execution_count": null,
   "source": [
    "# Manipulação de Arquivos CSV\r\n",
    "\r\n",
    "# cd 'C:\\Users\\sicilia.giacomazza\\Documents\\Python Cod3r\\'\r\n",
    "# python io_v3.py\r\n",
    "# clear\r\n",
    "\r\n",
    "with open (\"pessoas.csv\", encoding=\"utf-8-sig\") as arquivo:\r\n",
    "\r\n",
    "    # Criando um arquivo .txt chamado pessoas na pasta do arquivo com os dados de pessoa.csv:\r\n",
    "    with open (\"pessoas.txt\", \"w\") as saida:\r\n",
    "        for registro in arquivo:\r\n",
    "            pessoa = registro.strip().split(\",\")\r\n",
    "            \r\n",
    "            # Printando pessoas.csv no arquivo.txt\r\n",
    "            print(\"Nome: {}, Idade: {}\".format(*pessoa), file = saida)\r\n",
    "\r\n",
    "            # Printando pessoas.csv no io_v3.py\r\n",
    "            print(\"Nome: {}, Idade: {}\".format(*pessoa))\r\n",
    "\r\n",
    "if arquivo.closed:\r\n",
    "    print(\"O arquivo já foi fechado!\")\r\n",
    "\r\n",
    "if saida.close:\r\n",
    "    print(\"O arquivo de saida já foi fechado!\")"
   ],
   "outputs": [],
   "metadata": {}
  },
  {
   "cell_type": "code",
   "execution_count": null,
   "source": [
    "# Manipulação de Arquivos CSV\r\n",
    "\r\n",
    "# cd 'C:\\Users\\sicilia.giacomazza\\Documents\\Python Cod3r\\'\r\n",
    "# python io_v3.py\r\n",
    "# clear\r\n",
    "\r\n",
    "import csv\r\n",
    "\r\n",
    "with open(\"pessoas.csv\", encoding=\"utf-8-sig\") as entrada:\r\n",
    "    for pessoa in csv.reader(entrada):\r\n",
    "        print(\"Nome: {}, Idade: {}\".format(*pessoa))"
   ],
   "outputs": [],
   "metadata": {}
  }
 ],
 "metadata": {
  "orig_nbformat": 4,
  "language_info": {
   "name": "python",
   "version": "3.9.7",
   "mimetype": "text/x-python",
   "codemirror_mode": {
    "name": "ipython",
    "version": 3
   },
   "pygments_lexer": "ipython3",
   "nbconvert_exporter": "python",
   "file_extension": ".py"
  },
  "kernelspec": {
   "name": "python3",
   "display_name": "Python 3.9.7 64-bit ('sicilia.giacomazza': virtualenv)"
  },
  "interpreter": {
   "hash": "87423e84b6290a50d7e3421f2c9d3f1007ed4c3b90a1d3c5ac5a2c1dfcb7cca0"
  }
 },
 "nbformat": 4,
 "nbformat_minor": 2
}