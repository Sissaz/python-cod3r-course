{
 "cells": [
  {
   "cell_type": "code",
   "execution_count": 20,
   "source": [
    "# \r\n",
    "\r\n",
    "# cd 'C:\\Users\\sicilia.giacomazza\\Desktop\\Github\\'\r\n",
    "# python nomeDoArquivo.py\r\n",
    "# python first-project.py\r\n",
    "# #! python"
   ],
   "outputs": [],
   "metadata": {}
  },
  {
   "cell_type": "code",
   "execution_count": 21,
   "source": [
    "# Functions\r\n",
    "\r\n",
    "# Área do Círculo\r\n",
    "\r\n",
    "import math\r\n",
    "\r\n",
    "print(\"Cálculo da Área do Círculo com o Raio.\")\r\n",
    "print(\"π . raio²\")\r\n",
    "\r\n",
    "def area_circulo():\r\n",
    "    \"\"\"Retorna a área do círculo, com raio informado pelo usuario.\"\"\"\r\n",
    "    \r\n",
    "    raio = float(input(\"Informe o Raio: \"))\r\n",
    "    area = math.pi * (raio) ** 2\r\n",
    "\r\n",
    "    print(f\"Área do Círculo é de {area}.\")\r\n",
    "\r\n",
    "area_circulo()"
   ],
   "outputs": [
    {
     "output_type": "stream",
     "name": "stdout",
     "text": [
      "Cálculo da Área do Círculo com o Raio.\n",
      "π . raio²\n",
      "Área do Círculo é de 764.537988177612.\n"
     ]
    }
   ],
   "metadata": {}
  },
  {
   "cell_type": "code",
   "execution_count": 22,
   "source": [
    "# If Elif Else\r\n",
    "\r\n",
    "# Notas \r\n",
    "\r\n",
    "# Transforma Notas de \"0\" a \"10\" em \"E-\" a \"A\"\r\n",
    "\r\n",
    "print(\"Notas de E- até A! 📚\")\r\n",
    "\r\n",
    "def nota():\r\n",
    "    nota = float(input(\"Informe sua nota: \"))\r\n",
    "    if nota >= 0.0 and nota <= 1.0:\r\n",
    "        print(\"Sua nota foi E-\")\r\n",
    "    elif nota >= 1.1 and nota <= 2.0:\r\n",
    "        print(\"Sua nota foi E\")\r\n",
    "    elif nota >= 2.1 and nota <= 3.0:\r\n",
    "        print(\"Sua nota foi D-\")\r\n",
    "    elif nota >= 3.1 and nota <= 4.0:\r\n",
    "        print(\"Sua nota foi D\")\r\n",
    "    elif nota >= 4.1 and nota <= 5.0:\r\n",
    "        print(\"Sua nota foi C-\")\r\n",
    "    elif nota >= 5.1 and nota <= 6.0:\r\n",
    "        print(\"Sua nota foi C\")\r\n",
    "    elif nota >= 6.1 and nota <= 7.0:\r\n",
    "        print(\"Sua nota foi B-\")\r\n",
    "    elif nota >= 7.1 and nota <= 8.0:\r\n",
    "        print(\"Sua nota foi B\")\r\n",
    "    elif nota >= 8.1 and nota <= 9.0:\r\n",
    "        print(\"Sua nota foi A-\")\r\n",
    "    elif nota >= 9.1 and nota <= 10.0:\r\n",
    "        print(\"Sua nota foi A\")\r\n",
    "    else:\r\n",
    "        print(\"Nota Inválida.\")\r\n",
    "\r\n",
    "nota()"
   ],
   "outputs": [
    {
     "output_type": "stream",
     "name": "stdout",
     "text": [
      "Notas de E- até A! 📚\n",
      "Sua nota foi A\n"
     ]
    }
   ],
   "metadata": {}
  },
  {
   "cell_type": "code",
   "execution_count": 23,
   "source": [
    "# In Range\r\n",
    "\r\n",
    "# Idades\r\n",
    "\r\n",
    "def faixa_etaria(idade):\r\n",
    "    if 0 <= idade < 18:\r\n",
    "        return \"Menor de Idade\"\r\n",
    "    elif idade in range(18, 65):\r\n",
    "        return \"Adulto\"\r\n",
    "    elif idade in range(65, 100):\r\n",
    "        return \"Melhor Idade\"\r\n",
    "    elif idade >= 100:\r\n",
    "        return \"Centenário\"\r\n",
    "    else:\r\n",
    "        return \"Idade Inválida\"\r\n",
    "    \r\n",
    "if __name__ == \"__main__\":\r\n",
    "    for idade in (17, 35, 87, 113, -2):\r\n",
    "        print(f\"{idade}: {faixa_etaria(idade)}\")"
   ],
   "outputs": [
    {
     "output_type": "stream",
     "name": "stdout",
     "text": [
      "17: Menor de Idade\n",
      "35: Adulto\n",
      "87: Melhor Idade\n",
      "113: Centenário\n",
      "-2: Idade Inválida\n"
     ]
    }
   ],
   "metadata": {}
  },
  {
   "cell_type": "code",
   "execution_count": 26,
   "source": [
    "# While \r\n",
    "\r\n",
    "# Número Secreto\r\n",
    "\r\n",
    "from random import randint\r\n",
    "\r\n",
    "numero_informado = -1\r\n",
    "numero_secreto = randint(0,9)\r\n",
    "\r\n",
    "while numero_informado != numero_secreto:\r\n",
    "    numero_informado = int(input(\"Informe o número: \"))\r\n",
    "\r\n",
    "print(\"Número secreto ({}) foi encontrado!\".format(numero_secreto))"
   ],
   "outputs": [
    {
     "output_type": "stream",
     "name": "stdout",
     "text": [
      "Número secreto (2) foi encontrado!\n"
     ]
    }
   ],
   "metadata": {}
  },
  {
   "cell_type": "code",
   "execution_count": null,
   "source": [
    "# For in Range\r\n",
    "\r\n",
    "# Tabuada\r\n",
    "\r\n",
    "for i in range (1, 11):\r\n",
    "    print(\"i = {}\".format(i))\r\n",
    "\r\n",
    "for j in range(10):\r\n",
    "    print(f\"j = {j}\")\r\n",
    "\r\n",
    "for x in range(1, 11):\r\n",
    "    for y in range(1, 11):\r\n",
    "        print(f\"{x} * {y} = {x * y}\")"
   ],
   "outputs": [
    {
     "output_type": "stream",
     "name": "stdout",
     "text": [
      "i = 1\n",
      "i = 2\n",
      "i = 3\n",
      "i = 4\n",
      "i = 5\n",
      "i = 6\n",
      "i = 7\n",
      "i = 8\n",
      "i = 9\n",
      "i = 10\n",
      "j = 0\n",
      "j = 1\n",
      "j = 2\n",
      "j = 3\n",
      "j = 4\n",
      "j = 5\n",
      "j = 6\n",
      "j = 7\n",
      "j = 8\n",
      "j = 9\n",
      "1 * 1 = 1\n",
      "1 * 2 = 2\n",
      "1 * 3 = 3\n",
      "1 * 4 = 4\n",
      "1 * 5 = 5\n",
      "1 * 6 = 6\n",
      "1 * 7 = 7\n",
      "1 * 8 = 8\n",
      "1 * 9 = 9\n",
      "1 * 10 = 10\n",
      "2 * 1 = 2\n",
      "2 * 2 = 4\n",
      "2 * 3 = 6\n",
      "2 * 4 = 8\n",
      "2 * 5 = 10\n",
      "2 * 6 = 12\n",
      "2 * 7 = 14\n",
      "2 * 8 = 16\n",
      "2 * 9 = 18\n",
      "2 * 10 = 20\n",
      "3 * 1 = 3\n",
      "3 * 2 = 6\n",
      "3 * 3 = 9\n",
      "3 * 4 = 12\n",
      "3 * 5 = 15\n",
      "3 * 6 = 18\n",
      "3 * 7 = 21\n",
      "3 * 8 = 24\n",
      "3 * 9 = 27\n",
      "3 * 10 = 30\n",
      "4 * 1 = 4\n",
      "4 * 2 = 8\n",
      "4 * 3 = 12\n",
      "4 * 4 = 16\n",
      "4 * 5 = 20\n",
      "4 * 6 = 24\n",
      "4 * 7 = 28\n",
      "4 * 8 = 32\n",
      "4 * 9 = 36\n",
      "4 * 10 = 40\n",
      "5 * 1 = 5\n",
      "5 * 2 = 10\n",
      "5 * 3 = 15\n",
      "5 * 4 = 20\n",
      "5 * 5 = 25\n",
      "5 * 6 = 30\n",
      "5 * 7 = 35\n",
      "5 * 8 = 40\n",
      "5 * 9 = 45\n",
      "5 * 10 = 50\n",
      "6 * 1 = 6\n",
      "6 * 2 = 12\n",
      "6 * 3 = 18\n",
      "6 * 4 = 24\n",
      "6 * 5 = 30\n",
      "6 * 6 = 36\n",
      "6 * 7 = 42\n",
      "6 * 8 = 48\n",
      "6 * 9 = 54\n",
      "6 * 10 = 60\n",
      "7 * 1 = 7\n",
      "7 * 2 = 14\n",
      "7 * 3 = 21\n",
      "7 * 4 = 28\n",
      "7 * 5 = 35\n",
      "7 * 6 = 42\n",
      "7 * 7 = 49\n",
      "7 * 8 = 56\n",
      "7 * 9 = 63\n",
      "7 * 10 = 70\n",
      "8 * 1 = 8\n",
      "8 * 2 = 16\n",
      "8 * 3 = 24\n",
      "8 * 4 = 32\n",
      "8 * 5 = 40\n",
      "8 * 6 = 48\n",
      "8 * 7 = 56\n",
      "8 * 8 = 64\n",
      "8 * 9 = 72\n",
      "8 * 10 = 80\n",
      "9 * 1 = 9\n",
      "9 * 2 = 18\n",
      "9 * 3 = 27\n",
      "9 * 4 = 36\n",
      "9 * 5 = 45\n",
      "9 * 6 = 54\n",
      "9 * 7 = 63\n",
      "9 * 8 = 72\n",
      "9 * 9 = 81\n",
      "9 * 10 = 90\n",
      "10 * 1 = 10\n",
      "10 * 2 = 20\n",
      "10 * 3 = 30\n",
      "10 * 4 = 40\n",
      "10 * 5 = 50\n",
      "10 * 6 = 60\n",
      "10 * 7 = 70\n",
      "10 * 8 = 80\n",
      "10 * 9 = 90\n",
      "10 * 10 = 100\n"
     ]
    }
   ],
   "metadata": {}
  },
  {
   "cell_type": "code",
   "execution_count": 1,
   "source": [
    "# For in \r\n",
    "\r\n",
    "# Soletrando Palavras\r\n",
    "\r\n",
    "palavra = \"Paralelepípedo\"\r\n",
    "for letra in palavra:\r\n",
    "    print(letra, end=\" - \")\r\n",
    "print(\"Fim\")\r\n",
    "\r\n",
    "aprovados = [\"Rafaela\", \"Pedro\", \"Renato\", \"Maria\"]\r\n",
    "for nome in aprovados:\r\n",
    "    print(nome)\r\n",
    "\r\n",
    "for posicao, nome in enumerate(aprovados):\r\n",
    "    print(posicao + 1, nome)\r\n",
    "\r\n",
    "dias_semana = (\"Domingo\", \"Segunda\", \"Terça\", \"Quarta\", \"Quinta\", \"Sexta\", \"Sábado\")\r\n",
    "for dia in dias_semana:\r\n",
    "    print(f\"Hoje é {dia}.\")\r\n",
    "\r\n",
    "for numero in {1,2,3,4,5,6}:\r\n",
    "    print(numero)"
   ],
   "outputs": [
    {
     "output_type": "stream",
     "name": "stdout",
     "text": [
      "P - a - r - a - l - e - l - e - p - í - p - e - d - o - Fim\n",
      "Rafaela\n",
      "Pedro\n",
      "Renato\n",
      "Maria\n",
      "1 Rafaela\n",
      "2 Pedro\n",
      "3 Renato\n",
      "4 Maria\n",
      "Hoje é Domingo.\n",
      "Hoje é Segunda.\n",
      "Hoje é Terça.\n",
      "Hoje é Quarta.\n",
      "Hoje é Quinta.\n",
      "Hoje é Sexta.\n",
      "Hoje é Sábado.\n",
      "1\n",
      "2\n",
      "3\n",
      "4\n",
      "5\n",
      "6\n"
     ]
    }
   ],
   "metadata": {}
  },
  {
   "cell_type": "code",
   "execution_count": 2,
   "source": [
    "# For Dictionaries\r\n",
    "\r\n",
    "# Estoque\r\n",
    "\r\n",
    "produto = {\"Nome\": \"Caneta Chic\", \"Preço\": \"14,99\", \"Importada\": True, \"Estoque\": 793}\r\n",
    "\r\n",
    "for chave in produto.keys():\r\n",
    "    print(chave)\r\n",
    "\r\n",
    "for valor in produto.values():\r\n",
    "    print(valor)\r\n",
    "\r\n",
    "for chave, valor in produto.items():\r\n",
    "    print(chave, \"=\", valor)\r\n",
    "\r\n",
    "print(chave, valor)"
   ],
   "outputs": [
    {
     "output_type": "stream",
     "name": "stdout",
     "text": [
      "Nome\n",
      "Preço\n",
      "Importada\n",
      "Estoque\n",
      "Caneta Chic\n",
      "14,99\n",
      "True\n",
      "793\n",
      "Nome = Caneta Chic\n",
      "Preço = 14,99\n",
      "Importada = True\n",
      "Estoque = 793\n",
      "Estoque 793\n"
     ]
    }
   ],
   "metadata": {}
  },
  {
   "cell_type": "code",
   "execution_count": 5,
   "source": [
    "# For Break Continue\r\n",
    "\r\n",
    "# Numeros Impares\r\n",
    "\r\n",
    "for x in range(1, 11):\r\n",
    "    if x % 2 == 0:\r\n",
    "        continue\r\n",
    "    print(x)\r\n",
    "\r\n",
    "for x in range (1, 11):\r\n",
    "    if x == 5:\r\n",
    "        break\r\n",
    "    print(x)\r\n",
    "\r\n",
    "print(\"Fim\")"
   ],
   "outputs": [
    {
     "output_type": "stream",
     "name": "stdout",
     "text": [
      "1\n",
      "3\n",
      "5\n",
      "7\n",
      "9\n",
      "1\n",
      "2\n",
      "3\n",
      "4\n",
      "Fim\n"
     ]
    }
   ],
   "metadata": {}
  },
  {
   "cell_type": "code",
   "execution_count": 16,
   "source": [
    "from random import randint\r\n",
    "\r\n",
    "def sortear_dado():\r\n",
    "    return randint(1, 6)\r\n",
    "\r\n",
    "for i in range(1, 7):\r\n",
    "    if i % 2 == 1:\r\n",
    "        continue\r\n",
    "\r\n",
    "    if sortear_dado() == i:\r\n",
    "        print(f\"Acertou o número {i}!\")\r\n",
    "        break\r\n",
    "    else:\r\n",
    "        print(\"Não acertou o número!\")"
   ],
   "outputs": [
    {
     "output_type": "stream",
     "name": "stdout",
     "text": [
      "Não acertou o número!\n",
      "Não acertou o número!\n",
      "Acertou o número 6!\n"
     ]
    }
   ],
   "metadata": {}
  },
  {
   "cell_type": "code",
   "execution_count": 17,
   "source": [
    "# Switch\r\n",
    "\r\n",
    "# Dias da Semana\r\n",
    "\r\n",
    "def get_dia_semana(dia):\r\n",
    "    dias = {\r\n",
    "        1: \"Domingo\",\r\n",
    "        2: \"Segunda\",\r\n",
    "        3: \"Terça\",\r\n",
    "        4: \"Quarta\",\r\n",
    "        5: \"Quinta\",\r\n",
    "        6: \"Sexta\",\r\n",
    "        7: \"Sábado\",\r\n",
    "    }\r\n",
    "\r\n",
    "    return dias.get(dia, \"** Inválido **\" )\r\n",
    "\r\n",
    "if __name__ == \"__main__\":\r\n",
    "    for dia in range(0, 9):\r\n",
    "        print(f\"{dia}: {get_dia_semana(dia)}\")"
   ],
   "outputs": [
    {
     "output_type": "stream",
     "name": "stdout",
     "text": [
      "0: ** Inválido **\n",
      "1: Domingo\n",
      "2: Segunda\n",
      "3: Terça\n",
      "4: Quarta\n",
      "5: Quinta\n",
      "6: Sexta\n",
      "7: Sábado\n",
      "8: ** Inválido **\n"
     ]
    }
   ],
   "metadata": {}
  },
  {
   "cell_type": "code",
   "execution_count": 18,
   "source": [
    "def get_tipo_dia(dia):\r\n",
    "    dias = {\r\n",
    "        1: \"Fim de Semana\",\r\n",
    "        2: \"Dia de Semana\",\r\n",
    "        3: \"Dia de Semana\",\r\n",
    "        4: \"Dia de Semana\",\r\n",
    "        5: \"Dia de Semana\",\r\n",
    "        6: \"Dia de Semana\",\r\n",
    "        7: \"Fim de Semana\",\r\n",
    "    }\r\n",
    "    return dias.get(dia, \"** Inválido **\")\r\n",
    "\r\n",
    "if __name__ == \"__main__\":\r\n",
    "    for dia in range(8):\r\n",
    "        print(f\"{dia}: {get_tipo_dia(dia)}\")"
   ],
   "outputs": [
    {
     "output_type": "stream",
     "name": "stdout",
     "text": [
      "0: ** Inválido **\n",
      "1: Fim de Semana\n",
      "2: Dia de Semana\n",
      "3: Dia de Semana\n",
      "4: Dia de Semana\n",
      "5: Dia de Semana\n",
      "6: Dia de Semana\n",
      "7: Fim de Semana\n"
     ]
    }
   ],
   "metadata": {}
  },
  {
   "cell_type": "code",
   "execution_count": 21,
   "source": [
    "# For w/o Else\r\n",
    "\r\n",
    "# Palavras Proibidas\r\n",
    "\r\n",
    "PALAVRAS_PROIBIDAS = (\"futebol\", \"religião\", \"política\")\r\n",
    "textos = [\r\n",
    "    \"João gosta de futebol e política\",\r\n",
    "    \"A praia foi divertida\",\r\n",
    "]\r\n",
    "\r\n",
    "for texto in textos:\r\n",
    "    found = False\r\n",
    "    for palavra in texto.lower().split():\r\n",
    "        if palavra in PALAVRAS_PROIBIDAS:\r\n",
    "            print(f\"O texto possui pelo menos uma palavra proibida. A primeira palavra proibida encontrada foi {palavra}.\")\r\n",
    "            found = True\r\n",
    "            break\r\n",
    "\r\n",
    "    if not found:\r\n",
    "        print(\"Texto autorizado:\", texto + \".\")"
   ],
   "outputs": [
    {
     "output_type": "stream",
     "name": "stdout",
     "text": [
      "O texto possui pelo menos uma palavra proibida. A primeira palavra proibida encontrada foi futebol.\n",
      "Texto autorizado: A praia foi divertida.\n"
     ]
    }
   ],
   "metadata": {}
  },
  {
   "cell_type": "code",
   "execution_count": 23,
   "source": [
    "# For w Else\r\n",
    "\r\n",
    "# Palavras Proibidas\r\n",
    "\r\n",
    "PALAVRAS_PROIBIDAS = (\"futebol\", \"religião\", \"política\")\r\n",
    "textos = [\r\n",
    "    \"João gosta de futebol e política\",\r\n",
    "    \"A praia foi divertida\",\r\n",
    "]\r\n",
    "\r\n",
    "for texto in textos:\r\n",
    "    for palavra in texto.lower().split():\r\n",
    "        if palavra in PALAVRAS_PROIBIDAS:\r\n",
    "            print(f\"O texto possui pelo menos uma palavra proibida. A primeira palavra proibida encontrada foi {palavra}.\")\r\n",
    "            break\r\n",
    "\r\n",
    "    else:\r\n",
    "        print(\"Texto autorizado:\", texto + \".\")"
   ],
   "outputs": [
    {
     "output_type": "stream",
     "name": "stdout",
     "text": [
      "O texto possui pelo menos uma palavra proibida. A primeira palavra proibida encontrada foi futebol.\n",
      "Texto autorizado: A praia foi divertida.\n"
     ]
    }
   ],
   "metadata": {}
  },
  {
   "cell_type": "code",
   "execution_count": 31,
   "source": [
    "# Palavras Proibidas\r\n",
    "\r\n",
    "PALAVRAS_PROIBIDAS = {\"futebol\", \"religião\", \"política\"}\r\n",
    "textos = [\r\n",
    "    \"João gosta de futebol e política\",\r\n",
    "    \"A praia foi divertida\",\r\n",
    "]\r\n",
    "\r\n",
    "for texto in textos:\r\n",
    "    intersecao = PALAVRAS_PROIBIDAS.intersection(set(texto.lower().split()))\r\n",
    "    if intersecao:\r\n",
    "        print(f\"O texto possui as seguintes palavras proibidas:\", intersecao)\r\n",
    "    else:\r\n",
    "        print(\"Texto autorizado:\", texto + \".\")"
   ],
   "outputs": [
    {
     "output_type": "stream",
     "name": "stdout",
     "text": [
      "O texto possui as seguintes palavras proibidas: {'futebol', 'política'}\n",
      "Texto autorizado: A praia foi divertida.\n"
     ]
    }
   ],
   "metadata": {}
  },
  {
   "cell_type": "code",
   "execution_count": null,
   "source": [],
   "outputs": [],
   "metadata": {}
  }
 ],
 "metadata": {
  "orig_nbformat": 4,
  "language_info": {
   "name": "python",
   "version": "3.9.7",
   "mimetype": "text/x-python",
   "codemirror_mode": {
    "name": "ipython",
    "version": 3
   },
   "pygments_lexer": "ipython3",
   "nbconvert_exporter": "python",
   "file_extension": ".py"
  },
  "kernelspec": {
   "name": "python3",
   "display_name": "Python 3.9.7 64-bit (conda)"
  },
  "interpreter": {
   "hash": "87423e84b6290a50d7e3421f2c9d3f1007ed4c3b90a1d3c5ac5a2c1dfcb7cca0"
  }
 },
 "nbformat": 4,
 "nbformat_minor": 2
}