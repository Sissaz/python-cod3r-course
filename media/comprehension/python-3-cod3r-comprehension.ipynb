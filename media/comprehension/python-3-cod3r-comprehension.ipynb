{
 "cells": [
  {
   "cell_type": "code",
   "execution_count": null,
   "source": [
    "# List Comprehension []\r\n",
    "\r\n",
    "# [Expression for item in list if condicional]\r\n",
    "\r\n",
    "# python list-comprehension.py\r\n",
    "# clear\r\n",
    "\r\n",
    "# Versão Alternativa\r\n",
    "\r\n",
    "dobro = [i * 2 for i in range (10)]\r\n",
    "print(dobro)\r\n",
    "\r\n",
    "dobro_pares = [ i * 2 for i in range(10) if i % 2 == 0]\r\n",
    "print(dobro_pares)\r\n",
    "\r\n",
    "\r\n",
    "# Versão Normal\r\n",
    "\r\n",
    "mult = []\r\n",
    "for i in range(10):\r\n",
    "    mult.append(i * 2)\r\n",
    "print(mult)\r\n",
    "\r\n",
    "mult_pares = []\r\n",
    "for i in range(10):\r\n",
    "    if i % 2 == 0:\r\n",
    "        mult_pares.append(i * 2)\r\n",
    "print(mult_pares)"
   ],
   "outputs": [],
   "metadata": {}
  },
  {
   "cell_type": "code",
   "execution_count": null,
   "source": [
    "# Generator Comprehension []\r\n",
    "\r\n",
    "# python generator-comprehension.py\r\n",
    "# clear\r\n",
    "\r\n",
    "# Utiliza menos memória, pois gera dado apenas sob demanda\r\n",
    "\r\n",
    "generator = ( i ** 2 for i in range(10) if i % 2 == 0)\r\n",
    "print(next(generator))\r\n",
    "print(next(generator))\r\n",
    "print(next(generator))\r\n",
    "print(next(generator))\r\n",
    "print(next(generator))\r\n",
    "\r\n",
    "generator = ( i ** 2 for i in range(10) if i % 2 == 0)\r\n",
    "\r\n",
    "for numero in generator:\r\n",
    "    print(numero)"
   ],
   "outputs": [],
   "metadata": {}
  },
  {
   "cell_type": "code",
   "execution_count": null,
   "source": [
    "# Dictionaries Comprehension []\r\n",
    "\r\n",
    "# python dict-comprehension.py\r\n",
    "# clear\r\n",
    "\r\n",
    "dicionario = {f\"Número {i}\": i * 2 for i in range(10) if i % 2 == 0}\r\n",
    "print(dicionario)\r\n",
    "\r\n",
    "\r\n",
    "generator = ( i ** 2 for i in range(10) if i % 2 == 0)\r\n",
    "\r\n",
    "for numero, dobro in dicionario.items():\r\n",
    "    print(f\"{numero} x 2 = {dobro}\")"
   ],
   "outputs": [],
   "metadata": {}
  },
  {
   "cell_type": "code",
   "execution_count": null,
   "source": [
    "# Simulando o Switch\r\n",
    "\r\n",
    "# cd 'C:\\Users\\sicilia.giacomazza\\Documents\\Python Cod3r\\'\r\n",
    "# python switch.py\r\n",
    "# clear\r\n",
    "\r\n",
    "def get_tipo_dia(dia):\r\n",
    "    dias = {\r\n",
    "        (1, 7): \"Fim de Semana\",\r\n",
    "        tuple(range(2, 7)): \"Dia de Semana\",    \r\n",
    "    }\r\n",
    "    dia_escolhido = (tipo for numeros, tipo in dias.items() if dia in numeros)\r\n",
    "    return next(dia_escolhido, \"** dia inválido **\")\r\n",
    "\r\n",
    "if __name__ == \"__main__\":\r\n",
    "    for dia in range(0, 9):\r\n",
    "        print(f\"{dia}: {get_tipo_dia(dia)}\")"
   ],
   "outputs": [],
   "metadata": {}
  }
 ],
 "metadata": {
  "orig_nbformat": 4,
  "language_info": {
   "name": "python",
   "version": "3.9.7"
  },
  "kernelspec": {
   "name": "python3",
   "display_name": "Python 3.9.7 64-bit ('sicilia.giacomazza': virtualenv)"
  },
  "interpreter": {
   "hash": "87423e84b6290a50d7e3421f2c9d3f1007ed4c3b90a1d3c5ac5a2c1dfcb7cca0"
  }
 },
 "nbformat": 4,
 "nbformat_minor": 2
}