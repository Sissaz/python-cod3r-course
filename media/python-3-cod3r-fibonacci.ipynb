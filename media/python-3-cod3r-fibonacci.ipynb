{
    "cells": [
        {
            "cell_type": "code",
            "execution_count": null,
            "source": [
                "# While\r\n",
                "\r\n",
                "# Sequência de Fibonacci\r\n",
                "\r\n",
                "# 0, 1, 1, 2, 3, 5, 8, 13, 21..."
            ],
            "outputs": [],
            "metadata": {}
        },
        {
            "cell_type": "code",
            "execution_count": 14,
            "source": [
                "def fibonacci(limite):\r\n",
                "    penultimo = 0\r\n",
                "    ultimo = 1\r\n",
                "    print(f\"{penultimo}, {ultimo}\", end=\",\")\r\n",
                "    while ultimo < limite:\r\n",
                "        penultimo, ultimo = ultimo, penultimo + ultimo\r\n",
                "        print(ultimo, end=\", \")\r\n",
                "        \r\n",
                "if __name__ == \"__main__\":\r\n",
                "    fibonacci(10000)"
            ],
            "outputs": [
                {
                    "output_type": "stream",
                    "name": "stdout",
                    "text": [
                        "0, 1,1, 2, 3, 5, 8, 13, 21, 34, 55, 89, 144, 233, 377, 610, 987, 1597, 2584, 4181, 6765, 10946, "
                    ]
                }
            ],
            "metadata": {}
        },
        {
            "cell_type": "code",
            "execution_count": 12,
            "source": [
                "def fibonacci(limite):\r\n",
                "    resultado = [0, 1]\r\n",
                "    while resultado[-1] < limite:\r\n",
                "        resultado.append(resultado[-2] + resultado[-1])\r\n",
                "    return resultado    \r\n",
                "        \r\n",
                "if __name__ == \"__main__\":\r\n",
                "    for fib in fibonacci(1000):\r\n",
                "        print(fib)"
            ],
            "outputs": [
                {
                    "output_type": "stream",
                    "name": "stdout",
                    "text": [
                        "0\n",
                        "1\n",
                        "1\n",
                        "2\n",
                        "3\n",
                        "5\n",
                        "8\n",
                        "13\n",
                        "21\n",
                        "34\n",
                        "55\n",
                        "89\n",
                        "144\n",
                        "233\n",
                        "377\n",
                        "610\n",
                        "987\n",
                        "1597\n"
                    ]
                }
            ],
            "metadata": {}
        },
        {
            "cell_type": "code",
            "execution_count": 16,
            "source": [
                "def fibonacci(limite):\r\n",
                "    resultado = [0, 1]\r\n",
                "    while resultado[-1] < limite:\r\n",
                "        resultado.append(sum(resultado[-2:]))\r\n",
                "    return resultado    \r\n",
                "        \r\n",
                "if __name__ == \"__main__\":\r\n",
                "    for fib in fibonacci(1000):\r\n",
                "        print(fib)"
            ],
            "outputs": [
                {
                    "output_type": "stream",
                    "name": "stdout",
                    "text": [
                        "0\n",
                        "1\n",
                        "1\n",
                        "2\n",
                        "3\n",
                        "5\n",
                        "8\n",
                        "13\n",
                        "21\n",
                        "34\n",
                        "55\n",
                        "89\n",
                        "144\n",
                        "233\n",
                        "377\n",
                        "610\n",
                        "987\n",
                        "1597\n"
                    ]
                }
            ],
            "metadata": {}
        },
        {
            "cell_type": "code",
            "execution_count": 21,
            "source": [
                "def fibonacci(quantidade):\r\n",
                "    resultado = [0, 1]\r\n",
                "    while True:\r\n",
                "        resultado.append(sum(resultado[-2:]))\r\n",
                "        if len(resultado) == quantidade:\r\n",
                "            break\r\n",
                "    return resultado    \r\n",
                "        \r\n",
                "if __name__ == \"__main__\":\r\n",
                "    for fib in fibonacci(10):\r\n",
                "        print(fib)"
            ],
            "outputs": [
                {
                    "output_type": "stream",
                    "name": "stdout",
                    "text": [
                        "0\n",
                        "1\n",
                        "1\n",
                        "2\n",
                        "3\n",
                        "5\n",
                        "8\n",
                        "13\n",
                        "21\n",
                        "34\n"
                    ]
                }
            ],
            "metadata": {}
        },
        {
            "cell_type": "code",
            "execution_count": 24,
            "source": [
                "def fibonacci(quantidade):\r\n",
                "    resultado = [0, 1]\r\n",
                "    for i in range(2, quantidade):\r\n",
                "        resultado.append(sum(resultado[-2:]))\r\n",
                "    return resultado    \r\n",
                "        \r\n",
                "if __name__ == \"__main__\":\r\n",
                "    for fib in fibonacci(10):\r\n",
                "        print(fib)"
            ],
            "outputs": [
                {
                    "output_type": "stream",
                    "name": "stdout",
                    "text": [
                        "0\n",
                        "1\n",
                        "1\n",
                        "2\n",
                        "3\n",
                        "5\n",
                        "8\n",
                        "13\n",
                        "21\n",
                        "34\n"
                    ]
                }
            ],
            "metadata": {}
        },
        {
            "cell_type": "code",
            "execution_count": 35,
            "source": [
                "def fibonacci (quantidade, sequencia = (0,1)):\r\n",
                "    if len(sequencia) == quantidade:\r\n",
                "        return sequencia\r\n",
                "    return fibonacci(quantidade, sequencia + (sum(sequencia[-2:]),))\r\n",
                "    \r\n",
                "if __name__ == \"__main__\":\r\n",
                "    for fib in fibonacci(10):\r\n",
                "        print(fib)"
            ],
            "outputs": [
                {
                    "output_type": "stream",
                    "name": "stdout",
                    "text": [
                        "0\n",
                        "1\n",
                        "1\n",
                        "2\n",
                        "3\n",
                        "5\n",
                        "8\n",
                        "13\n",
                        "21\n",
                        "34\n"
                    ]
                }
            ],
            "metadata": {}
        },
        {
            "cell_type": "code",
            "execution_count": 37,
            "source": [
                "def fibonacci (quantidade, sequencia = (0,1)):\r\n",
                "    return sequencia if len(sequencia) == quantidade else \\\r\n",
                "    fibonacci(quantidade, sequencia + (sum(sequencia[-2:]),))\r\n",
                "    \r\n",
                "if __name__ == \"__main__\":\r\n",
                "    for fib in fibonacci(10):\r\n",
                "        print(fib)"
            ],
            "outputs": [
                {
                    "output_type": "stream",
                    "name": "stdout",
                    "text": [
                        "0\n",
                        "1\n",
                        "1\n",
                        "2\n",
                        "3\n",
                        "5\n",
                        "8\n",
                        "13\n",
                        "21\n",
                        "34\n"
                    ]
                }
            ],
            "metadata": {}
        },
        {
            "cell_type": "code",
            "execution_count": null,
            "source": [],
            "outputs": [],
            "metadata": {}
        }
    ],
    "metadata": {
        "orig_nbformat": 4,
        "language_info": {
            "name": "python",
            "version": "3.9.7",
            "mimetype": "text/x-python",
            "codemirror_mode": {
                "name": "ipython",
                "version": 3
            },
            "pygments_lexer": "ipython3",
            "nbconvert_exporter": "python",
            "file_extension": ".py"
        },
        "kernelspec": {
            "name": "python3",
            "display_name": "Python 3.9.7 64-bit (conda)"
        },
        "interpreter": {
            "hash": "87423e84b6290a50d7e3421f2c9d3f1007ed4c3b90a1d3c5ac5a2c1dfcb7cca0"
        }
    },
    "nbformat": 4,
    "nbformat_minor": 2
}